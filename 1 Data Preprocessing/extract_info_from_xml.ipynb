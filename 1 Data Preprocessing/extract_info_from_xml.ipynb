{
 "cells": [
  {
   "cell_type": "code",
   "execution_count": 4,
   "id": "bbafdf69-eae6-4aaa-b30d-6905ff0eb892",
   "metadata": {},
   "outputs": [],
   "source": [
    "import os\n",
    "from glob import glob\n",
    "import pandas as pd\n",
    "from functools import reduce\n",
    "from xml.etree import ElementTree as et"
   ]
  },
  {
   "cell_type": "code",
   "execution_count": 5,
   "id": "684c9fb0-242a-4eb8-bd86-bafb8355f876",
   "metadata": {},
   "outputs": [
    {
     "name": "stdout",
     "output_type": "stream",
     "text": [
      "['Train Dataset 2\\\\20240317_113906.xml', 'Train Dataset 2\\\\20240317_114025.xml', 'Train Dataset 2\\\\20240317_114035.xml', 'Train Dataset 2\\\\20240317_114046.xml', 'Train Dataset 2\\\\20240317_114101.xml', 'Train Dataset 2\\\\20240317_114354.xml', 'Train Dataset 2\\\\20240317_114417.xml', 'Train Dataset 2\\\\20240317_114432.xml', 'Train Dataset 2\\\\20240317_114441.xml', 'Train Dataset 2\\\\20240317_114455.xml', 'Train Dataset 2\\\\20240317_201120.xml', 'Train Dataset 2\\\\20240317_201135.xml', 'Train Dataset 2\\\\20240317_201141.xml', 'Train Dataset 2\\\\20240317_201147.xml', 'Train Dataset 2\\\\20240317_201159.xml', 'Train Dataset 2\\\\20240317_201203.xml', 'Train Dataset 2\\\\20240317_201210.xml', 'Train Dataset 2\\\\20240317_201214.xml', 'Train Dataset 2\\\\20240317_201219.xml', 'Train Dataset 2\\\\20240317_201225.xml', 'Train Dataset 2\\\\20240317_201232.xml', 'Train Dataset 2\\\\20240317_201241.xml', 'Train Dataset 2\\\\20240317_201248.xml', 'Train Dataset 2\\\\20240317_201251.xml', 'Train Dataset 2\\\\20240317_201254.xml', 'Train Dataset 2\\\\20240317_201304.xml', 'Train Dataset 2\\\\20240317_201308.xml', 'Train Dataset 2\\\\20240317_201310.xml', 'Train Dataset 2\\\\20240317_202108.xml', 'Train Dataset 2\\\\20240317_202113.xml', 'Train Dataset 2\\\\20240317_202118.xml', 'Train Dataset 2\\\\20240317_202125.xml', 'Train Dataset 2\\\\20240317_202133.xml', 'Train Dataset 2\\\\20240317_202153.xml', 'Train Dataset 2\\\\20240317_202159.xml', 'Train Dataset 2\\\\20240317_202205.xml', 'Train Dataset 2\\\\20240317_202207.xml', 'Train Dataset 2\\\\20240317_202213.xml', 'Train Dataset 2\\\\20240317_202218.xml', 'Train Dataset 2\\\\20240317_202220.xml', 'Train Dataset 2\\\\20240317_202324.xml', 'Train Dataset 2\\\\20240317_202326.xml', 'Train Dataset 2\\\\20240317_202327.xml', 'Train Dataset 2\\\\20240317_202329.xml', 'Train Dataset 2\\\\20240317_202336.xml', 'Train Dataset 2\\\\20240317_202340.xml', 'Train Dataset 2\\\\20240317_202342.xml', 'Train Dataset 2\\\\20240317_202346.xml', 'Train Dataset 2\\\\20240317_202348.xml', 'Train Dataset 2\\\\20240317_202351.xml', 'Train Dataset 2\\\\IMG-20240316-WA0023.xml']\n"
     ]
    }
   ],
   "source": [
    "# load xml and store in list\n",
    "xml_list = glob('Train Dataset 2/*.xml')\n",
    "print(xml_list)"
   ]
  },
  {
   "cell_type": "code",
   "execution_count": 6,
   "id": "28571789-edbd-43ec-8513-6be09a259ce6",
   "metadata": {},
   "outputs": [
    {
     "data": {
      "text/plain": [
       "['Train Dataset 2/20240317_113906.xml',\n",
       " 'Train Dataset 2/20240317_114025.xml',\n",
       " 'Train Dataset 2/20240317_114035.xml',\n",
       " 'Train Dataset 2/20240317_114046.xml',\n",
       " 'Train Dataset 2/20240317_114101.xml',\n",
       " 'Train Dataset 2/20240317_114354.xml',\n",
       " 'Train Dataset 2/20240317_114417.xml',\n",
       " 'Train Dataset 2/20240317_114432.xml',\n",
       " 'Train Dataset 2/20240317_114441.xml',\n",
       " 'Train Dataset 2/20240317_114455.xml',\n",
       " 'Train Dataset 2/20240317_201120.xml',\n",
       " 'Train Dataset 2/20240317_201135.xml',\n",
       " 'Train Dataset 2/20240317_201141.xml',\n",
       " 'Train Dataset 2/20240317_201147.xml',\n",
       " 'Train Dataset 2/20240317_201159.xml',\n",
       " 'Train Dataset 2/20240317_201203.xml',\n",
       " 'Train Dataset 2/20240317_201210.xml',\n",
       " 'Train Dataset 2/20240317_201214.xml',\n",
       " 'Train Dataset 2/20240317_201219.xml',\n",
       " 'Train Dataset 2/20240317_201225.xml',\n",
       " 'Train Dataset 2/20240317_201232.xml',\n",
       " 'Train Dataset 2/20240317_201241.xml',\n",
       " 'Train Dataset 2/20240317_201248.xml',\n",
       " 'Train Dataset 2/20240317_201251.xml',\n",
       " 'Train Dataset 2/20240317_201254.xml',\n",
       " 'Train Dataset 2/20240317_201304.xml',\n",
       " 'Train Dataset 2/20240317_201308.xml',\n",
       " 'Train Dataset 2/20240317_201310.xml',\n",
       " 'Train Dataset 2/20240317_202108.xml',\n",
       " 'Train Dataset 2/20240317_202113.xml',\n",
       " 'Train Dataset 2/20240317_202118.xml',\n",
       " 'Train Dataset 2/20240317_202125.xml',\n",
       " 'Train Dataset 2/20240317_202133.xml',\n",
       " 'Train Dataset 2/20240317_202153.xml',\n",
       " 'Train Dataset 2/20240317_202159.xml',\n",
       " 'Train Dataset 2/20240317_202205.xml',\n",
       " 'Train Dataset 2/20240317_202207.xml',\n",
       " 'Train Dataset 2/20240317_202213.xml',\n",
       " 'Train Dataset 2/20240317_202218.xml',\n",
       " 'Train Dataset 2/20240317_202220.xml',\n",
       " 'Train Dataset 2/20240317_202324.xml',\n",
       " 'Train Dataset 2/20240317_202326.xml',\n",
       " 'Train Dataset 2/20240317_202327.xml',\n",
       " 'Train Dataset 2/20240317_202329.xml',\n",
       " 'Train Dataset 2/20240317_202336.xml',\n",
       " 'Train Dataset 2/20240317_202340.xml',\n",
       " 'Train Dataset 2/20240317_202342.xml',\n",
       " 'Train Dataset 2/20240317_202346.xml',\n",
       " 'Train Dataset 2/20240317_202348.xml',\n",
       " 'Train Dataset 2/20240317_202351.xml',\n",
       " 'Train Dataset 2/IMG-20240316-WA0023.xml']"
      ]
     },
     "execution_count": 6,
     "metadata": {},
     "output_type": "execute_result"
    }
   ],
   "source": [
    "# data cleaning of \\\\ to /\n",
    "xml_list = list(map(lambda x: x.replace('\\\\', '/'), xml_list))\n",
    "xml_list"
   ]
  },
  {
   "cell_type": "code",
   "execution_count": 7,
   "id": "e738084c-5e8c-4800-8f6d-807f12d193e5",
   "metadata": {},
   "outputs": [],
   "source": [
    "#extract filename, size(width, height), object(name, xmin, ymin, xmax, ymax)\n",
    "\n",
    "def extract_from_xml(filename):\n",
    "    tree = et.parse(filename)\n",
    "    root = tree.getroot()\n",
    "    parser = []\n",
    "    \n",
    "    img_name = root.find('filename').text\n",
    "    width = root.find('size').find('width').text\n",
    "    height = root.find('size').find('height').text\n",
    "    \n",
    "    objs = root.findall('object')\n",
    "    \n",
    "    for obj in objs:\n",
    "        name = obj.find('name').text\n",
    "        bndbox = obj.find('bndbox')\n",
    "        xmin = bndbox.find('xmin').text\n",
    "        ymin = bndbox.find('ymin').text\n",
    "        xmax = bndbox.find('xmax').text\n",
    "        ymax = bndbox.find('ymax').text\n",
    "        parser.append([img_name, width, height, name, xmin, ymin, xmax, ymax])\n",
    "\n",
    "    return parser"
   ]
  },
  {
   "cell_type": "code",
   "execution_count": 8,
   "id": "b1dd5fbf-c19c-4086-b78e-2d4f8607501f",
   "metadata": {},
   "outputs": [
    {
     "name": "stdout",
     "output_type": "stream",
     "text": [
      "[[['20240317_113906.jpg', '2250', '1265', 'train', '795', '10', '1295', '1113']], [['20240317_114025.jpg', '2250', '1265', 'train', '884', '147', '1225', '947']], [['20240317_114035.jpg', '3999', '2250', 'train', '292', '1031', '1786', '1585']], [['20240317_114046.jpg', '2250', '1265', 'train', '688', '128', '936', '947']], [['20240317_114101.jpg', '2250', '1265', 'train', '739', '139', '1306', '1265']], [['20240317_114354.jpg', '4000', '2250', 'train', '387', '505', '1993', '811']], [['20240317_114417.jpg', '2250', '1265', 'train', '210', '150', '1591', '554']], [['20240317_114432.jpg', '2250', '1265', 'train', '675', '252', '1975', '827']], [['20240317_114441.jpg', '2250', '1265', 'train', '645', '367', '1610', '777']], [['20240317_114455.jpg', '2247', '1264', 'train', '773', '42', '1613', '1107']], [['20240317_201120.jpg', '4000', '2250', 'train', '526', '724', '3254', '1279']], [['20240317_201135.jpg', '4000', '2250', 'train', '1545', '288', '2308', '2079']], [['20240317_201141.jpg', '4000', '2250', 'train', '1617', '470', '2272', '1560']], [['20240317_201147.jpg', '4000', '2250', 'train', '1372', '915', '1781', '1451']], [['20240317_201159.jpg', '4000', '2250', 'train', '1135', '679', '2208', '1406']], [['20240317_201203.jpg', '4000', '2250', 'train', '1599', '624', '2226', '1333']], [['20240317_201210.jpg', '4000', '2250', 'train', '1490', '315', '2299', '2242']], [['20240317_201214.jpg', '4000', '2250', 'train', '1535', '1', '2208', '1806']], [['20240317_201219.jpg', '4000', '2250', 'train', '1454', '415', '2072', '1470']], [['20240317_201225.jpg', '4000', '2250', 'train', '772', '679', '3317', '1170']], [['20240317_201232.jpg', '4000', '2250', 'train', '1626', '433', '2063', '1924']], [['20240317_201241.jpg', '4000', '2250', 'train', '1690', '188', '2026', '1870']], [['20240317_201248.jpg', '4000', '2250', 'train', '1835', '942', '2435', '2250']], [['20240317_201251.jpg', '4000', '2250', 'train', '1745', '588', '2263', '2250']], [['20240317_201254.jpg', '4000', '2250', 'train', '1717', '251', '2199', '2024']], [['20240317_201304.jpg', '4000', '2250', 'train', '1608', '842', '2199', '2250']], [['20240317_201308.jpg', '4000', '2250', 'train', '1617', '288', '2163', '2250']], [['20240317_201310.jpg', '4000', '2250', 'train', '1635', '133', '2072', '2070']], [['20240317_202108.jpg', '4000', '2250', 'train', '1617', '1', '2226', '1697']], [['20240317_202113.jpg', '4000', '2250', 'train', '1572', '242', '2235', '2250']], [['20240317_202118.jpg', '4000', '2250', 'train', '1481', '70', '2181', '1715']], [['20240317_202125.jpg', '4000', '2250', 'train', '1708', '651', '1990', '1233']], [['20240317_202133.jpg', '4000', '2250', 'train', '917', '670', '2845', '1133']], [['20240317_202153.jpg', '4000', '2250', 'train', '1799', '306', '2281', '1442']], [['20240317_202159.jpg', '4000', '2250', 'train', '1435', '488', '2445', '1479']], [['20240317_202205.jpg', '4000', '2250', 'train', '1526', '779', '2045', '1315']], [['20240317_202207.jpg', '4000', '2250', 'train', '1572', '779', '1981', '1297']], [['20240317_202213.jpg', '4000', '2250', 'train', '1754', '1115', '1945', '1542']], [['20240317_202218.jpg', '4000', '2250', 'train', '1754', '970', '1954', '1379']], [['20240317_202220.jpg', '4000', '2250', 'train', '1817', '1133', '2026', '1524']], [['20240317_202324.jpg', '4000', '2250', 'train', '1781', '379', '2390', '2250']], [['20240317_202326.jpg', '4000', '2250', 'train', '1545', '1', '2190', '2242']], [['20240317_202327.jpg', '4000', '2250', 'train', '1726', '6', '2372', '2250']], [['20240317_202329.jpg', '4000', '2250', 'train', '1626', '1', '2435', '2060']], [['20240317_202336.jpg', '4000', '2250', 'train', '645', '1', '2072', '1933']], [['20240317_202340.jpg', '4000', '2250', 'train', '2154', '133', '3417', '2188']], [['20240317_202342.jpg', '4000', '2250', 'train', '1881', '60', '2908', '2233']], [['20240317_202346.jpg', '4000', '2250', 'train', '1672', '160', '2554', '2250']], [['20240317_202348.jpg', '4000', '2250', 'train', '1726', '297', '2535', '2250']], [['20240317_202351.jpg', '4000', '2250', 'train', '1972', '451', '2208', '1342']], [['IMG-20240316-WA0023.jpeg', '3839', '2160', 'train', '111', '904', '3544', '1496']]]\n"
     ]
    }
   ],
   "source": [
    "parser_all = list(map(extract_from_xml, xml_list))\n",
    "print(parser_all)"
   ]
  },
  {
   "cell_type": "code",
   "execution_count": 9,
   "id": "2a814d90-afde-4de4-bc5b-eb98b06c8006",
   "metadata": {},
   "outputs": [
    {
     "name": "stdout",
     "output_type": "stream",
     "text": [
      "[['20240317_113906.jpg', '2250', '1265', 'train', '795', '10', '1295', '1113'], ['20240317_114025.jpg', '2250', '1265', 'train', '884', '147', '1225', '947'], ['20240317_114035.jpg', '3999', '2250', 'train', '292', '1031', '1786', '1585'], ['20240317_114046.jpg', '2250', '1265', 'train', '688', '128', '936', '947'], ['20240317_114101.jpg', '2250', '1265', 'train', '739', '139', '1306', '1265'], ['20240317_114354.jpg', '4000', '2250', 'train', '387', '505', '1993', '811'], ['20240317_114417.jpg', '2250', '1265', 'train', '210', '150', '1591', '554'], ['20240317_114432.jpg', '2250', '1265', 'train', '675', '252', '1975', '827'], ['20240317_114441.jpg', '2250', '1265', 'train', '645', '367', '1610', '777'], ['20240317_114455.jpg', '2247', '1264', 'train', '773', '42', '1613', '1107'], ['20240317_201120.jpg', '4000', '2250', 'train', '526', '724', '3254', '1279'], ['20240317_201135.jpg', '4000', '2250', 'train', '1545', '288', '2308', '2079'], ['20240317_201141.jpg', '4000', '2250', 'train', '1617', '470', '2272', '1560'], ['20240317_201147.jpg', '4000', '2250', 'train', '1372', '915', '1781', '1451'], ['20240317_201159.jpg', '4000', '2250', 'train', '1135', '679', '2208', '1406'], ['20240317_201203.jpg', '4000', '2250', 'train', '1599', '624', '2226', '1333'], ['20240317_201210.jpg', '4000', '2250', 'train', '1490', '315', '2299', '2242'], ['20240317_201214.jpg', '4000', '2250', 'train', '1535', '1', '2208', '1806'], ['20240317_201219.jpg', '4000', '2250', 'train', '1454', '415', '2072', '1470'], ['20240317_201225.jpg', '4000', '2250', 'train', '772', '679', '3317', '1170'], ['20240317_201232.jpg', '4000', '2250', 'train', '1626', '433', '2063', '1924'], ['20240317_201241.jpg', '4000', '2250', 'train', '1690', '188', '2026', '1870'], ['20240317_201248.jpg', '4000', '2250', 'train', '1835', '942', '2435', '2250'], ['20240317_201251.jpg', '4000', '2250', 'train', '1745', '588', '2263', '2250'], ['20240317_201254.jpg', '4000', '2250', 'train', '1717', '251', '2199', '2024'], ['20240317_201304.jpg', '4000', '2250', 'train', '1608', '842', '2199', '2250'], ['20240317_201308.jpg', '4000', '2250', 'train', '1617', '288', '2163', '2250'], ['20240317_201310.jpg', '4000', '2250', 'train', '1635', '133', '2072', '2070'], ['20240317_202108.jpg', '4000', '2250', 'train', '1617', '1', '2226', '1697'], ['20240317_202113.jpg', '4000', '2250', 'train', '1572', '242', '2235', '2250'], ['20240317_202118.jpg', '4000', '2250', 'train', '1481', '70', '2181', '1715'], ['20240317_202125.jpg', '4000', '2250', 'train', '1708', '651', '1990', '1233'], ['20240317_202133.jpg', '4000', '2250', 'train', '917', '670', '2845', '1133'], ['20240317_202153.jpg', '4000', '2250', 'train', '1799', '306', '2281', '1442'], ['20240317_202159.jpg', '4000', '2250', 'train', '1435', '488', '2445', '1479'], ['20240317_202205.jpg', '4000', '2250', 'train', '1526', '779', '2045', '1315'], ['20240317_202207.jpg', '4000', '2250', 'train', '1572', '779', '1981', '1297'], ['20240317_202213.jpg', '4000', '2250', 'train', '1754', '1115', '1945', '1542'], ['20240317_202218.jpg', '4000', '2250', 'train', '1754', '970', '1954', '1379'], ['20240317_202220.jpg', '4000', '2250', 'train', '1817', '1133', '2026', '1524'], ['20240317_202324.jpg', '4000', '2250', 'train', '1781', '379', '2390', '2250'], ['20240317_202326.jpg', '4000', '2250', 'train', '1545', '1', '2190', '2242'], ['20240317_202327.jpg', '4000', '2250', 'train', '1726', '6', '2372', '2250'], ['20240317_202329.jpg', '4000', '2250', 'train', '1626', '1', '2435', '2060'], ['20240317_202336.jpg', '4000', '2250', 'train', '645', '1', '2072', '1933'], ['20240317_202340.jpg', '4000', '2250', 'train', '2154', '133', '3417', '2188'], ['20240317_202342.jpg', '4000', '2250', 'train', '1881', '60', '2908', '2233'], ['20240317_202346.jpg', '4000', '2250', 'train', '1672', '160', '2554', '2250'], ['20240317_202348.jpg', '4000', '2250', 'train', '1726', '297', '2535', '2250'], ['20240317_202351.jpg', '4000', '2250', 'train', '1972', '451', '2208', '1342'], ['IMG-20240316-WA0023.jpeg', '3839', '2160', 'train', '111', '904', '3544', '1496']]\n"
     ]
    }
   ],
   "source": [
    "# use reduce to flatten the multidimensional array\n",
    "data = reduce(lambda x,y : x+y, parser_all)\n",
    "print(data)"
   ]
  },
  {
   "cell_type": "code",
   "execution_count": 10,
   "id": "baeb85aa-7413-4c46-b6b3-914e102311a0",
   "metadata": {},
   "outputs": [
    {
     "name": "stdout",
     "output_type": "stream",
     "text": [
      "                        file width height   name  xmin  ymin  xmax  ymax\n",
      "0        20240317_113906.jpg  2250   1265  train   795    10  1295  1113\n",
      "1        20240317_114025.jpg  2250   1265  train   884   147  1225   947\n",
      "2        20240317_114035.jpg  3999   2250  train   292  1031  1786  1585\n",
      "3        20240317_114046.jpg  2250   1265  train   688   128   936   947\n",
      "4        20240317_114101.jpg  2250   1265  train   739   139  1306  1265\n",
      "5        20240317_114354.jpg  4000   2250  train   387   505  1993   811\n",
      "6        20240317_114417.jpg  2250   1265  train   210   150  1591   554\n",
      "7        20240317_114432.jpg  2250   1265  train   675   252  1975   827\n",
      "8        20240317_114441.jpg  2250   1265  train   645   367  1610   777\n",
      "9        20240317_114455.jpg  2247   1264  train   773    42  1613  1107\n",
      "10       20240317_201120.jpg  4000   2250  train   526   724  3254  1279\n",
      "11       20240317_201135.jpg  4000   2250  train  1545   288  2308  2079\n",
      "12       20240317_201141.jpg  4000   2250  train  1617   470  2272  1560\n",
      "13       20240317_201147.jpg  4000   2250  train  1372   915  1781  1451\n",
      "14       20240317_201159.jpg  4000   2250  train  1135   679  2208  1406\n",
      "15       20240317_201203.jpg  4000   2250  train  1599   624  2226  1333\n",
      "16       20240317_201210.jpg  4000   2250  train  1490   315  2299  2242\n",
      "17       20240317_201214.jpg  4000   2250  train  1535     1  2208  1806\n",
      "18       20240317_201219.jpg  4000   2250  train  1454   415  2072  1470\n",
      "19       20240317_201225.jpg  4000   2250  train   772   679  3317  1170\n",
      "20       20240317_201232.jpg  4000   2250  train  1626   433  2063  1924\n",
      "21       20240317_201241.jpg  4000   2250  train  1690   188  2026  1870\n",
      "22       20240317_201248.jpg  4000   2250  train  1835   942  2435  2250\n",
      "23       20240317_201251.jpg  4000   2250  train  1745   588  2263  2250\n",
      "24       20240317_201254.jpg  4000   2250  train  1717   251  2199  2024\n",
      "25       20240317_201304.jpg  4000   2250  train  1608   842  2199  2250\n",
      "26       20240317_201308.jpg  4000   2250  train  1617   288  2163  2250\n",
      "27       20240317_201310.jpg  4000   2250  train  1635   133  2072  2070\n",
      "28       20240317_202108.jpg  4000   2250  train  1617     1  2226  1697\n",
      "29       20240317_202113.jpg  4000   2250  train  1572   242  2235  2250\n",
      "30       20240317_202118.jpg  4000   2250  train  1481    70  2181  1715\n",
      "31       20240317_202125.jpg  4000   2250  train  1708   651  1990  1233\n",
      "32       20240317_202133.jpg  4000   2250  train   917   670  2845  1133\n",
      "33       20240317_202153.jpg  4000   2250  train  1799   306  2281  1442\n",
      "34       20240317_202159.jpg  4000   2250  train  1435   488  2445  1479\n",
      "35       20240317_202205.jpg  4000   2250  train  1526   779  2045  1315\n",
      "36       20240317_202207.jpg  4000   2250  train  1572   779  1981  1297\n",
      "37       20240317_202213.jpg  4000   2250  train  1754  1115  1945  1542\n",
      "38       20240317_202218.jpg  4000   2250  train  1754   970  1954  1379\n",
      "39       20240317_202220.jpg  4000   2250  train  1817  1133  2026  1524\n",
      "40       20240317_202324.jpg  4000   2250  train  1781   379  2390  2250\n",
      "41       20240317_202326.jpg  4000   2250  train  1545     1  2190  2242\n",
      "42       20240317_202327.jpg  4000   2250  train  1726     6  2372  2250\n",
      "43       20240317_202329.jpg  4000   2250  train  1626     1  2435  2060\n",
      "44       20240317_202336.jpg  4000   2250  train   645     1  2072  1933\n",
      "45       20240317_202340.jpg  4000   2250  train  2154   133  3417  2188\n",
      "46       20240317_202342.jpg  4000   2250  train  1881    60  2908  2233\n",
      "47       20240317_202346.jpg  4000   2250  train  1672   160  2554  2250\n",
      "48       20240317_202348.jpg  4000   2250  train  1726   297  2535  2250\n",
      "49       20240317_202351.jpg  4000   2250  train  1972   451  2208  1342\n",
      "50  IMG-20240316-WA0023.jpeg  3839   2160  train   111   904  3544  1496\n"
     ]
    }
   ],
   "source": [
    "df = pd.DataFrame( data, columns=['file', 'width', 'height', 'name', 'xmin', 'ymin', 'xmax', 'ymax'])\n",
    "print(df)"
   ]
  },
  {
   "cell_type": "code",
   "execution_count": 11,
   "id": "ea6ee36f-b592-46bd-bd48-3890cbb71d03",
   "metadata": {},
   "outputs": [
    {
     "data": {
      "text/plain": [
       "name\n",
       "train    51\n",
       "Name: count, dtype: int64"
      ]
     },
     "execution_count": 11,
     "metadata": {},
     "output_type": "execute_result"
    }
   ],
   "source": [
    "df['name'].value_counts()"
   ]
  },
  {
   "cell_type": "code",
   "execution_count": 12,
   "id": "b9348ef1-2c07-4244-8ec9-d1b77a43e896",
   "metadata": {},
   "outputs": [
    {
     "name": "stdout",
     "output_type": "stream",
     "text": [
      "<class 'pandas.core.frame.DataFrame'>\n",
      "RangeIndex: 51 entries, 0 to 50\n",
      "Data columns (total 8 columns):\n",
      " #   Column  Non-Null Count  Dtype \n",
      "---  ------  --------------  ----- \n",
      " 0   file    51 non-null     object\n",
      " 1   width   51 non-null     object\n",
      " 2   height  51 non-null     object\n",
      " 3   name    51 non-null     object\n",
      " 4   xmin    51 non-null     object\n",
      " 5   ymin    51 non-null     object\n",
      " 6   xmax    51 non-null     object\n",
      " 7   ymax    51 non-null     object\n",
      "dtypes: object(8)\n",
      "memory usage: 3.3+ KB\n"
     ]
    }
   ],
   "source": [
    "df.info()"
   ]
  },
  {
   "cell_type": "code",
   "execution_count": 13,
   "id": "9e039be0-05eb-4187-bac2-a90273af3afe",
   "metadata": {},
   "outputs": [
    {
     "name": "stdout",
     "output_type": "stream",
     "text": [
      "<class 'pandas.core.frame.DataFrame'>\n",
      "RangeIndex: 51 entries, 0 to 50\n",
      "Data columns (total 8 columns):\n",
      " #   Column  Non-Null Count  Dtype \n",
      "---  ------  --------------  ----- \n",
      " 0   file    51 non-null     object\n",
      " 1   width   51 non-null     int32 \n",
      " 2   height  51 non-null     int32 \n",
      " 3   name    51 non-null     object\n",
      " 4   xmin    51 non-null     int32 \n",
      " 5   ymin    51 non-null     int32 \n",
      " 6   xmax    51 non-null     int32 \n",
      " 7   ymax    51 non-null     int32 \n",
      "dtypes: int32(6), object(2)\n",
      "memory usage: 2.1+ KB\n"
     ]
    }
   ],
   "source": [
    "# type conversion\n",
    "cols = ['width', 'height',  'xmin', 'ymin', 'xmax', 'ymax']\n",
    "# df[['width', 'height',  'xmin', 'ymin', 'xmax', 'ymax']] = df[['width', 'height',  'xmin', 'ymin', 'xmax', 'ymax']].astype(int)\n",
    "df[cols] = df[cols].astype(int)\n",
    "df.info()"
   ]
  },
  {
   "cell_type": "code",
   "execution_count": 14,
   "id": "9432bf99-904d-43c1-9a4a-754ed266f2ef",
   "metadata": {},
   "outputs": [],
   "source": [
    "df['center_x'] = ((df['xmin'] + df['xmax']) / 2) / df['width']\n",
    "df['center_y'] = ((df['ymin'] + df['ymax']) / 2) / df['height']\n",
    "\n",
    "df['w'] = (df['xmax']-df['xmin']) / df['width']\n",
    "df['h'] = (df['ymax']-df['ymin']) / df['height']"
   ]
  },
  {
   "cell_type": "code",
   "execution_count": 15,
   "id": "0524aca8-b289-4101-b0ea-741474bc6ed0",
   "metadata": {},
   "outputs": [
    {
     "name": "stdout",
     "output_type": "stream",
     "text": [
      "                        file  width  height   name  xmin  ymin  xmax  ymax  \\\n",
      "0        20240317_113906.jpg   2250    1265  train   795    10  1295  1113   \n",
      "1        20240317_114025.jpg   2250    1265  train   884   147  1225   947   \n",
      "2        20240317_114035.jpg   3999    2250  train   292  1031  1786  1585   \n",
      "3        20240317_114046.jpg   2250    1265  train   688   128   936   947   \n",
      "4        20240317_114101.jpg   2250    1265  train   739   139  1306  1265   \n",
      "5        20240317_114354.jpg   4000    2250  train   387   505  1993   811   \n",
      "6        20240317_114417.jpg   2250    1265  train   210   150  1591   554   \n",
      "7        20240317_114432.jpg   2250    1265  train   675   252  1975   827   \n",
      "8        20240317_114441.jpg   2250    1265  train   645   367  1610   777   \n",
      "9        20240317_114455.jpg   2247    1264  train   773    42  1613  1107   \n",
      "10       20240317_201120.jpg   4000    2250  train   526   724  3254  1279   \n",
      "11       20240317_201135.jpg   4000    2250  train  1545   288  2308  2079   \n",
      "12       20240317_201141.jpg   4000    2250  train  1617   470  2272  1560   \n",
      "13       20240317_201147.jpg   4000    2250  train  1372   915  1781  1451   \n",
      "14       20240317_201159.jpg   4000    2250  train  1135   679  2208  1406   \n",
      "15       20240317_201203.jpg   4000    2250  train  1599   624  2226  1333   \n",
      "16       20240317_201210.jpg   4000    2250  train  1490   315  2299  2242   \n",
      "17       20240317_201214.jpg   4000    2250  train  1535     1  2208  1806   \n",
      "18       20240317_201219.jpg   4000    2250  train  1454   415  2072  1470   \n",
      "19       20240317_201225.jpg   4000    2250  train   772   679  3317  1170   \n",
      "20       20240317_201232.jpg   4000    2250  train  1626   433  2063  1924   \n",
      "21       20240317_201241.jpg   4000    2250  train  1690   188  2026  1870   \n",
      "22       20240317_201248.jpg   4000    2250  train  1835   942  2435  2250   \n",
      "23       20240317_201251.jpg   4000    2250  train  1745   588  2263  2250   \n",
      "24       20240317_201254.jpg   4000    2250  train  1717   251  2199  2024   \n",
      "25       20240317_201304.jpg   4000    2250  train  1608   842  2199  2250   \n",
      "26       20240317_201308.jpg   4000    2250  train  1617   288  2163  2250   \n",
      "27       20240317_201310.jpg   4000    2250  train  1635   133  2072  2070   \n",
      "28       20240317_202108.jpg   4000    2250  train  1617     1  2226  1697   \n",
      "29       20240317_202113.jpg   4000    2250  train  1572   242  2235  2250   \n",
      "30       20240317_202118.jpg   4000    2250  train  1481    70  2181  1715   \n",
      "31       20240317_202125.jpg   4000    2250  train  1708   651  1990  1233   \n",
      "32       20240317_202133.jpg   4000    2250  train   917   670  2845  1133   \n",
      "33       20240317_202153.jpg   4000    2250  train  1799   306  2281  1442   \n",
      "34       20240317_202159.jpg   4000    2250  train  1435   488  2445  1479   \n",
      "35       20240317_202205.jpg   4000    2250  train  1526   779  2045  1315   \n",
      "36       20240317_202207.jpg   4000    2250  train  1572   779  1981  1297   \n",
      "37       20240317_202213.jpg   4000    2250  train  1754  1115  1945  1542   \n",
      "38       20240317_202218.jpg   4000    2250  train  1754   970  1954  1379   \n",
      "39       20240317_202220.jpg   4000    2250  train  1817  1133  2026  1524   \n",
      "40       20240317_202324.jpg   4000    2250  train  1781   379  2390  2250   \n",
      "41       20240317_202326.jpg   4000    2250  train  1545     1  2190  2242   \n",
      "42       20240317_202327.jpg   4000    2250  train  1726     6  2372  2250   \n",
      "43       20240317_202329.jpg   4000    2250  train  1626     1  2435  2060   \n",
      "44       20240317_202336.jpg   4000    2250  train   645     1  2072  1933   \n",
      "45       20240317_202340.jpg   4000    2250  train  2154   133  3417  2188   \n",
      "46       20240317_202342.jpg   4000    2250  train  1881    60  2908  2233   \n",
      "47       20240317_202346.jpg   4000    2250  train  1672   160  2554  2250   \n",
      "48       20240317_202348.jpg   4000    2250  train  1726   297  2535  2250   \n",
      "49       20240317_202351.jpg   4000    2250  train  1972   451  2208  1342   \n",
      "50  IMG-20240316-WA0023.jpeg   3839    2160  train   111   904  3544  1496   \n",
      "\n",
      "    center_x  center_y         w         h  \n",
      "0   0.464444  0.443874  0.222222  0.871937  \n",
      "1   0.468667  0.432411  0.151556  0.632411  \n",
      "2   0.259815  0.581333  0.373593  0.246222  \n",
      "3   0.360889  0.424901  0.110222  0.647431  \n",
      "4   0.454444  0.554941  0.252000  0.890119  \n",
      "5   0.297500  0.292444  0.401500  0.136000  \n",
      "6   0.400222  0.278261  0.613778  0.319368  \n",
      "7   0.588889  0.426482  0.577778  0.454545  \n",
      "8   0.501111  0.452174  0.428889  0.324111  \n",
      "9   0.530930  0.454509  0.373832  0.842563  \n",
      "10  0.472500  0.445111  0.682000  0.246667  \n",
      "11  0.481625  0.526000  0.190750  0.796000  \n",
      "12  0.486125  0.451111  0.163750  0.484444  \n",
      "13  0.394125  0.525778  0.102250  0.238222  \n",
      "14  0.417875  0.463333  0.268250  0.323111  \n",
      "15  0.478125  0.434889  0.156750  0.315111  \n",
      "16  0.473625  0.568222  0.202250  0.856444  \n",
      "17  0.467875  0.401556  0.168250  0.802222  \n",
      "18  0.440750  0.418889  0.154500  0.468889  \n",
      "19  0.511125  0.410889  0.636250  0.218222  \n",
      "20  0.461125  0.523778  0.109250  0.662667  \n",
      "21  0.464500  0.457333  0.084000  0.747556  \n",
      "22  0.533750  0.709333  0.150000  0.581333  \n",
      "23  0.501000  0.630667  0.129500  0.738667  \n",
      "24  0.489500  0.505556  0.120500  0.788000  \n",
      "25  0.475875  0.687111  0.147750  0.625778  \n",
      "26  0.472500  0.564000  0.136500  0.872000  \n",
      "27  0.463375  0.489556  0.109250  0.860889  \n",
      "28  0.480375  0.377333  0.152250  0.753778  \n",
      "29  0.475875  0.553778  0.165750  0.892444  \n",
      "30  0.457750  0.396667  0.175000  0.731111  \n",
      "31  0.462250  0.418667  0.070500  0.258667  \n",
      "32  0.470250  0.400667  0.482000  0.205778  \n",
      "33  0.510000  0.388444  0.120500  0.504889  \n",
      "34  0.485000  0.437111  0.252500  0.440444  \n",
      "35  0.446375  0.465333  0.129750  0.238222  \n",
      "36  0.444125  0.461333  0.102250  0.230222  \n",
      "37  0.462375  0.590444  0.047750  0.189778  \n",
      "38  0.463500  0.522000  0.050000  0.181778  \n",
      "39  0.480375  0.590444  0.052250  0.173778  \n",
      "40  0.521375  0.584222  0.152250  0.831556  \n",
      "41  0.466875  0.498444  0.161250  0.996000  \n",
      "42  0.512250  0.501333  0.161500  0.997333  \n",
      "43  0.507625  0.458000  0.202250  0.915111  \n",
      "44  0.339625  0.429778  0.356750  0.858667  \n",
      "45  0.696375  0.515778  0.315750  0.913333  \n",
      "46  0.598625  0.509556  0.256750  0.965778  \n",
      "47  0.528250  0.535556  0.220500  0.928889  \n",
      "48  0.532625  0.566000  0.202250  0.868000  \n",
      "49  0.522500  0.398444  0.059000  0.396000  \n",
      "50  0.476035  0.555556  0.894243  0.274074  \n"
     ]
    }
   ],
   "source": [
    "print(df)"
   ]
  },
  {
   "cell_type": "code",
   "execution_count": 16,
   "id": "74e19564-7c3b-4a80-8f0d-fe84c35b2778",
   "metadata": {},
   "outputs": [
    {
     "data": {
      "text/plain": [
       "51"
      ]
     },
     "execution_count": 16,
     "metadata": {},
     "output_type": "execute_result"
    }
   ],
   "source": [
    "images = df['file'].unique()\n",
    "len(images)"
   ]
  },
  {
   "cell_type": "code",
   "execution_count": 17,
   "id": "726f2a8d-8b4b-4d2c-8079-06ff6b59aad1",
   "metadata": {},
   "outputs": [],
   "source": [
    "img_df = pd.DataFrame(images, columns=['file'])\n",
    "\n",
    "# shuffles and picks any 80%\n",
    "img_train = tuple(img_df.sample(frac = 0.8)['file']) \n",
    "\n",
    "#a way to embed expressions inside string literals, using curly braces {}\n",
    "img_test = tuple(img_df.query(f'file not in {img_train}')['file'])"
   ]
  },
  {
   "cell_type": "code",
   "execution_count": 18,
   "id": "055e5a93-8d4b-4aea-b001-e795128e05ba",
   "metadata": {},
   "outputs": [],
   "source": [
    "train_df = df.query(f'file in {img_train}')\n",
    "test_df = df.query(f'file in {img_test}')"
   ]
  },
  {
   "cell_type": "code",
   "execution_count": 19,
   "id": "b42ca3d1-9004-44fa-a760-e4328af90ba2",
   "metadata": {},
   "outputs": [],
   "source": [
    "# converting name(strings) to id(number)\n",
    "def label_encoding(x):\n",
    "    labels = { 'train': 0 }\n",
    "    return labels[x]"
   ]
  },
  {
   "cell_type": "code",
   "execution_count": 20,
   "id": "c198e94b-3ec8-4533-be02-65407f765c1d",
   "metadata": {},
   "outputs": [
    {
     "name": "stderr",
     "output_type": "stream",
     "text": [
      "C:\\Users\\admin\\AppData\\Local\\Temp\\ipykernel_15604\\3116627190.py:1: SettingWithCopyWarning: \n",
      "A value is trying to be set on a copy of a slice from a DataFrame.\n",
      "Try using .loc[row_indexer,col_indexer] = value instead\n",
      "\n",
      "See the caveats in the documentation: https://pandas.pydata.org/pandas-docs/stable/user_guide/indexing.html#returning-a-view-versus-a-copy\n",
      "  train_df['id'] = train_df['name'].apply(label_encoding)\n",
      "C:\\Users\\admin\\AppData\\Local\\Temp\\ipykernel_15604\\3116627190.py:2: SettingWithCopyWarning: \n",
      "A value is trying to be set on a copy of a slice from a DataFrame.\n",
      "Try using .loc[row_indexer,col_indexer] = value instead\n",
      "\n",
      "See the caveats in the documentation: https://pandas.pydata.org/pandas-docs/stable/user_guide/indexing.html#returning-a-view-versus-a-copy\n",
      "  test_df['id'] = test_df['name'].apply(label_encoding)\n"
     ]
    }
   ],
   "source": [
    "train_df['id'] = train_df['name'].apply(label_encoding)\n",
    "test_df['id'] = test_df['name'].apply(label_encoding)"
   ]
  },
  {
   "cell_type": "code",
   "execution_count": 21,
   "id": "ac5d47bf-8128-4e7f-9d8f-7f3e7c722697",
   "metadata": {},
   "outputs": [],
   "source": [
    "# save images and labels in txt\n",
    "\n",
    "import os\n",
    "from shutil import move"
   ]
  },
  {
   "cell_type": "code",
   "execution_count": 22,
   "id": "00c9c87f-e659-4a33-8639-e5d5aa4f54c3",
   "metadata": {},
   "outputs": [],
   "source": [
    "#making train test folders\n",
    "\n",
    "train_folder = 'training_dataset'\n",
    "test_folder = 'testing_dataset'\n",
    "\n",
    "os.mkdir(train_folder)\n",
    "os.mkdir(test_folder)"
   ]
  },
  {
   "cell_type": "code",
   "execution_count": 23,
   "id": "5f36e31d-b2c7-4d67-ba8a-87e57dc06312",
   "metadata": {},
   "outputs": [],
   "source": [
    "cols = ['file', 'id', 'center_x', 'center_y', 'w', 'h']\n",
    "groupby_obj_train = train_df[cols].groupby('file')\n",
    "groupby_obj_test = test_df[cols].groupby('file')"
   ]
  },
  {
   "cell_type": "code",
   "execution_count": 28,
   "id": "f199e262-3cc5-42b6-8270-51eb8394cefb",
   "metadata": {},
   "outputs": [],
   "source": [
    "# separates images into train and test folders\n",
    "\n",
    "def save_data(file, folder_path, groupby_obj ) :\n",
    "    src = os.path.join('Train Dataset 2', file)\n",
    "    dst = os.path.join('Train Dataset 2\\\\' + folder_path, file)\n",
    "    move(src, dst)\n",
    "\n",
    "    txt_file = os.path.join('Train Dataset 2\\\\' + folder_path,\n",
    "                            os.path.splitext(file)[0] + '.txt')\n",
    "    groupby_obj.get_group(file).set_index('file').to_csv(txt_file, sep=' ', index=False, header=False)"
   ]
  },
  {
   "cell_type": "code",
   "execution_count": 29,
   "id": "da8d450b-35c9-4804-9535-1e4ce3051e7b",
   "metadata": {},
   "outputs": [],
   "source": [
    "file_series = pd.Series(groupby_obj_train.groups.keys())"
   ]
  },
  {
   "cell_type": "code",
   "execution_count": 30,
   "id": "30b8512d-9d1f-4294-94b7-d7c2abe5a395",
   "metadata": {},
   "outputs": [
    {
     "name": "stdout",
     "output_type": "stream",
     "text": [
      "0          20240317_113906.jpg\n",
      "1          20240317_114025.jpg\n",
      "2          20240317_114035.jpg\n",
      "3          20240317_114101.jpg\n",
      "4          20240317_114354.jpg\n",
      "5          20240317_114417.jpg\n",
      "6          20240317_114432.jpg\n",
      "7          20240317_114441.jpg\n",
      "8          20240317_201135.jpg\n",
      "9          20240317_201141.jpg\n",
      "10         20240317_201147.jpg\n",
      "11         20240317_201159.jpg\n",
      "12         20240317_201203.jpg\n",
      "13         20240317_201210.jpg\n",
      "14         20240317_201214.jpg\n",
      "15         20240317_201219.jpg\n",
      "16         20240317_201225.jpg\n",
      "17         20240317_201232.jpg\n",
      "18         20240317_201241.jpg\n",
      "19         20240317_201251.jpg\n",
      "20         20240317_201254.jpg\n",
      "21         20240317_201304.jpg\n",
      "22         20240317_201308.jpg\n",
      "23         20240317_202108.jpg\n",
      "24         20240317_202113.jpg\n",
      "25         20240317_202118.jpg\n",
      "26         20240317_202125.jpg\n",
      "27         20240317_202133.jpg\n",
      "28         20240317_202153.jpg\n",
      "29         20240317_202159.jpg\n",
      "30         20240317_202205.jpg\n",
      "31         20240317_202207.jpg\n",
      "32         20240317_202213.jpg\n",
      "33         20240317_202218.jpg\n",
      "34         20240317_202324.jpg\n",
      "35         20240317_202329.jpg\n",
      "36         20240317_202340.jpg\n",
      "37         20240317_202342.jpg\n",
      "38         20240317_202348.jpg\n",
      "39         20240317_202351.jpg\n",
      "40    IMG-20240316-WA0023.jpeg\n",
      "dtype: object\n"
     ]
    }
   ],
   "source": [
    "print(file_series)"
   ]
  },
  {
   "cell_type": "code",
   "execution_count": 31,
   "id": "776aadea-4a93-41f8-a176-77a2457d884e",
   "metadata": {},
   "outputs": [
    {
     "data": {
      "text/plain": [
       "0     None\n",
       "1     None\n",
       "2     None\n",
       "3     None\n",
       "4     None\n",
       "5     None\n",
       "6     None\n",
       "7     None\n",
       "8     None\n",
       "9     None\n",
       "10    None\n",
       "11    None\n",
       "12    None\n",
       "13    None\n",
       "14    None\n",
       "15    None\n",
       "16    None\n",
       "17    None\n",
       "18    None\n",
       "19    None\n",
       "20    None\n",
       "21    None\n",
       "22    None\n",
       "23    None\n",
       "24    None\n",
       "25    None\n",
       "26    None\n",
       "27    None\n",
       "28    None\n",
       "29    None\n",
       "30    None\n",
       "31    None\n",
       "32    None\n",
       "33    None\n",
       "34    None\n",
       "35    None\n",
       "36    None\n",
       "37    None\n",
       "38    None\n",
       "39    None\n",
       "40    None\n",
       "dtype: object"
      ]
     },
     "execution_count": 31,
     "metadata": {},
     "output_type": "execute_result"
    }
   ],
   "source": [
    "file_series.apply(save_data, args=(train_folder, groupby_obj_train))"
   ]
  },
  {
   "cell_type": "code",
   "execution_count": 32,
   "id": "8293dfa6-07f0-46c8-81d1-70fdc73d9352",
   "metadata": {},
   "outputs": [
    {
     "data": {
      "text/plain": [
       "0    None\n",
       "1    None\n",
       "2    None\n",
       "3    None\n",
       "4    None\n",
       "5    None\n",
       "6    None\n",
       "7    None\n",
       "8    None\n",
       "9    None\n",
       "dtype: object"
      ]
     },
     "execution_count": 32,
     "metadata": {},
     "output_type": "execute_result"
    }
   ],
   "source": [
    "file_series_test = pd.Series(groupby_obj_test.groups.keys())\n",
    "file_series_test.apply(save_data, args=(test_folder, groupby_obj_test))"
   ]
  },
  {
   "cell_type": "code",
   "execution_count": null,
   "id": "b13b6d34-4cb4-4917-afbd-fa7e90d34d7f",
   "metadata": {},
   "outputs": [],
   "source": []
  }
 ],
 "metadata": {
  "kernelspec": {
   "display_name": "Python 3 (ipykernel)",
   "language": "python",
   "name": "python3"
  },
  "language_info": {
   "codemirror_mode": {
    "name": "ipython",
    "version": 3
   },
   "file_extension": ".py",
   "mimetype": "text/x-python",
   "name": "python",
   "nbconvert_exporter": "python",
   "pygments_lexer": "ipython3",
   "version": "3.8.3"
  }
 },
 "nbformat": 4,
 "nbformat_minor": 5
}
