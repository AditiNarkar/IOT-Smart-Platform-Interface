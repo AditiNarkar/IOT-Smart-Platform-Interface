{
 "cells": [
  {
   "cell_type": "code",
   "execution_count": 1,
   "id": "c4f4f338-13d9-44d6-aa8a-b869840f8ac0",
   "metadata": {},
   "outputs": [],
   "source": [
    "import cv2\n",
    "import numpy as np\n",
    "import os\n",
    "import yaml\n",
    "from yaml.loader import SafeLoader"
   ]
  },
  {
   "cell_type": "code",
   "execution_count": 2,
   "id": "2f3ed82f-bbfa-4efc-a9af-3e367b0be1f7",
   "metadata": {},
   "outputs": [
    {
     "data": {
      "text/plain": [
       "['train']"
      ]
     },
     "execution_count": 2,
     "metadata": {},
     "output_type": "execute_result"
    }
   ],
   "source": [
    "# load yaml\n",
    "with open('data.yaml', mode='r') as f:\n",
    "    data_yaml = yaml.load(f, Loader=SafeLoader)\n",
    "\n",
    "labels = data_yaml['names']\n",
    "labels"
   ]
  },
  {
   "cell_type": "code",
   "execution_count": 3,
   "id": "6952939c-1567-4c75-b814-3499266f61c1",
   "metadata": {},
   "outputs": [],
   "source": [
    "  #load YOLO Model\n",
    "\n",
    "yolo = cv2.dnn.readNetFromONNX('Model/weights/best.onnx')\n",
    "yolo.setPreferableBackend(cv2.dnn.DNN_BACKEND_OPENCV)\n",
    "yolo.setPreferableTarget(cv2.dnn.DNN_TARGET_CPU)"
   ]
  },
  {
   "cell_type": "code",
   "execution_count": 4,
   "id": "5ce6b8fa-09f7-42a3-9bb4-3e67bb960238",
   "metadata": {},
   "outputs": [],
   "source": [
    "# load image\n",
    "img = cv2.imread('02.jpg')\n",
    "image = img.copy()\n",
    "\n",
    "row, col, d = image.shape\n",
    "\n",
    "#create blank square black matrix\n",
    "max_rc = max(row, col) \n",
    "input_image = np.zeros((max_rc, max_rc, 3), dtype=np.uint8) \n",
    "input_image[0:row, 0:col] = image #overlay image\n",
    "\n",
    "# get YOLO predictions\n",
    "\n",
    "# returns a 4-dimensional NumPy array (\"blob\") \n",
    "# represents the preprocessed input image. \n",
    "# suitable for passing to a deep neural network model for inference.\n",
    "INPUT_WH = 640\n",
    "blob = cv2.dnn.blobFromImage(input_image, 1/255, (INPUT_WH, INPUT_WH), swapRB=True, crop=False)\n",
    "yolo.setInput(blob)\n",
    "preds = yolo.forward() # get predictions\n",
    "\n"
   ]
  },
  {
   "cell_type": "code",
   "execution_count": 5,
   "id": "5fcb6880-8823-4e89-98c3-548da21298b3",
   "metadata": {},
   "outputs": [
    {
     "name": "stdout",
     "output_type": "stream",
     "text": [
      "(1, 25200, 6)\n"
     ]
    }
   ],
   "source": [
    "print(preds.shape)"
   ]
  },
  {
   "cell_type": "code",
   "execution_count": 6,
   "id": "27ac14cf-abde-4930-84c5-6cf747d602c7",
   "metadata": {},
   "outputs": [],
   "source": [
    "# remove duplicates of 25200\n",
    "\n",
    "# 1. filter detections based on confidence(0.4) and probablity score(0.25)\n",
    "detections = preds[0]\n",
    "boxes = []\n",
    "confidences = []\n",
    "classes = []\n",
    "\n",
    "image_w, image_h = input_image.shape[:2]\n",
    "\n",
    "# since square, both r same\n",
    "x_factor = image_w / INPUT_WH\n",
    "y_factor = image_h / INPUT_WH\n",
    "\n",
    "# column names: center_x, center_y, w, h, confidence, prob-scores of classes\n",
    "for i in range(len(detections)):\n",
    "    row = detections[i]\n",
    "    confidence = row[4] #4th columnn of ith row\n",
    "    \n",
    "    if confidence > 0.1:\n",
    "        class_score = row[5:].max() # maximum probability of class detected\n",
    "        class_id = row[5:].argmax() # index at which max prob occurs\n",
    "\n",
    "        if class_score > 0.25:\n",
    "            cx, cy, w, h = row[0:4]\n",
    "\n",
    "            #construct bound box from these values\n",
    "            left = int((cx - 0.5*w) * x_factor)\n",
    "            top  = int((cy - 0.5*h) * y_factor)\n",
    "            width = int(w * x_factor)\n",
    "            height = int(h * y_factor)\n",
    "            box = np.array([left, top, width, height])\n",
    "\n",
    "            confidences.append(confidence)\n",
    "            boxes.append(box)\n",
    "            classes.append(class_id)\n",
    "\n",
    "#clean\n",
    "boxes_np = np.array(boxes).tolist()\n",
    "confidences_np = np.array(confidences).tolist()\n",
    "\n",
    "# Non Maximum Suppression\n",
    "index = cv2.dnn.NMSBoxes(boxes_np, confidences_np, 0.1, 0.3)\n"
   ]
  },
  {
   "cell_type": "code",
   "execution_count": 7,
   "id": "915f2cd7-64e5-4628-961d-6482e0781dc0",
   "metadata": {},
   "outputs": [
    {
     "data": {
      "text/plain": [
       "array([5])"
      ]
     },
     "execution_count": 7,
     "metadata": {},
     "output_type": "execute_result"
    }
   ],
   "source": [
    "index"
   ]
  },
  {
   "cell_type": "code",
   "execution_count": 8,
   "id": "57fc9085-6371-42b0-8f9b-102dfb386fb4",
   "metadata": {},
   "outputs": [],
   "source": [
    "# extracy bounding box info\n",
    "\n",
    "for ind in index:\n",
    "    x, y, w, h = boxes_np[ind]\n",
    "    bb_conf = int(confidences_np[ind]*100)\n",
    "    class_id = classes[ind]\n",
    "    class_name = labels[class_id]\n",
    "\n",
    "    text = f'{class_name}: {bb_conf}%'\n",
    "    \n",
    "    cv2.rectangle(image, (x,y), (x+w, y+h), (0, 0, 255), 2)\n",
    "    cv2.putText(image, text, (x, y-10), cv2.FONT_HERSHEY_PLAIN, 0.7, (0, 0, 255), 1)\n",
    "    "
   ]
  },
  {
   "cell_type": "code",
   "execution_count": 9,
   "id": "adec9607-abd1-4765-993d-295ee0164fa9",
   "metadata": {},
   "outputs": [],
   "source": [
    "#display\n",
    "\n",
    "cv2.imshow('image', image)\n",
    "cv2.waitKey(0)\n",
    "cv2.destroyAllWindows()"
   ]
  },
  {
   "cell_type": "code",
   "execution_count": null,
   "id": "092d3d5f-5940-43ec-95a2-527e6a6f8071",
   "metadata": {},
   "outputs": [],
   "source": []
  }
 ],
 "metadata": {
  "kernelspec": {
   "display_name": "Python 3 (ipykernel)",
   "language": "python",
   "name": "python3"
  },
  "language_info": {
   "codemirror_mode": {
    "name": "ipython",
    "version": 3
   },
   "file_extension": ".py",
   "mimetype": "text/x-python",
   "name": "python",
   "nbconvert_exporter": "python",
   "pygments_lexer": "ipython3",
   "version": "3.8.3"
  }
 },
 "nbformat": 4,
 "nbformat_minor": 5
}
